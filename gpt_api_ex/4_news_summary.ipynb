{
 "cells": [
  {
   "cell_type": "markdown",
   "id": "28956250",
   "metadata": {},
   "source": [
    "# openai api key test"
   ]
  },
  {
   "cell_type": "markdown",
   "id": "659d6a5f",
   "metadata": {},
   "source": [
    "## API key Loading"
   ]
  },
  {
   "cell_type": "code",
   "execution_count": 5,
   "id": "05b997f7",
   "metadata": {},
   "outputs": [],
   "source": [
    "from openai import OpenAI\n",
    "from dotenv import load_dotenv\n",
    "import os\n",
    "\n",
    "# 환경변수 로딩\n",
    "load_dotenv(override=True)\n",
    "\n",
    "# 메모리에 로딩된 값을 api_key 변수에 대입\n",
    "OPENAI_API_KEY = os.environ.get(\"OPENAI_API_KEY\")\n",
    "# print(api_key)"
   ]
  },
  {
   "cell_type": "markdown",
   "id": "7758c68d",
   "metadata": {},
   "source": [
    "## 라이브러리 로딩 및 객체 생성"
   ]
  },
  {
   "cell_type": "code",
   "execution_count": 6,
   "id": "a0ebf882",
   "metadata": {},
   "outputs": [],
   "source": [
    "from openai import OpenAI\n",
    "# openai api 인증 및 OpenAI 객체 생성\n",
    "client = OpenAI(api_key=OPENAI_API_KEY)"
   ]
  },
  {
   "cell_type": "code",
   "execution_count": 7,
   "id": "46d73bc4",
   "metadata": {},
   "outputs": [],
   "source": [
    "summary_prompt = \"\"\"당신은 언어 이해 및 요약에 훈련된 고도로 숙련된 AI입니다.\n",
    "다음 텍스트를 읽고 간결한 추상적 단락으로 요약했으면 합니다.\n",
    "전체 텍스트를 읽을 필요 없이 토론의 요점을 이해하는 데 도움이 될 수 있는 일관되고\n",
    "읽을 수 있는 요약을 제공하여 가장 중요한 요점을 유지하는 것을 목표로 합니다.\n",
    "불필요한 세부 사항이나 접선 사항은 피하십시오.\"\"\"\n",
    "key_points_prompt = \"\"\"당신은 정보를 핵심 포인트로 전달하는 데 특화된 능숙한 AI입니다.\n",
    "다음 텍스트를 기반으로 논의되거나 언급된 주요 포인트를 확인하고 나열합니다.\n",
    "이는 논의의 본질에 가장 중요한 아이디어, 결과 또는 주제가 되어야 합니다.\n",
    "당신의 목표는 누군가가 읽을 수 있는 목록을 제공하여 이야기된 내용을 빠르게 이해하는 것입니다.\"\"\"\n",
    "action_items_prompt = \"\"\"당신은 대화를 분석하고 행동 항목을 추출하는 데 있어 AI 전문가입니다.\n",
    "본문을 검토하고 합의되거나 수행이 필요하다고 언급된 모든 작업, 과제 또는 행동을 식별하십시오.\n",
    "이것들은 특정 개인에게 할당된 작업일 수도 있고 그룹이 취하기로 결정한 일반적인 행동일 수도 있습니다.\n",
    "이러한 행동 항목을 명확하고 간결하게 나열하십시오.\"\"\"\n",
    "sentiment_prompt = \"\"\"당신은 언어와 감정 분석에 전문성을 갖춘 AI로서 당신의 과제는 다음 텍스트의 감\n",
    "정을 분석하는 것입니다.\n",
    "토론의 전체적인 톤, 사용된 언어가 전달하는 감정, 단어와 구가 사용되는 맥락을 고려하십시오.\n",
    "감정이 일반적으로 긍정적인지 부정적인지 중립적인지를 표시하고 가능한 한 당신의 분석에 대해 간략한 설명을 제\n",
    "공하십시오.\"\"\""
   ]
  },
  {
   "cell_type": "markdown",
   "id": "4be292d0",
   "metadata": {},
   "source": [
    "## 번역함수"
   ]
  },
  {
   "cell_type": "code",
   "execution_count": 8,
   "id": "b45e715d",
   "metadata": {},
   "outputs": [],
   "source": [
    "def text_extraction(text, prompt):\n",
    "    response = client.chat.completions.create(\n",
    "        model=\"gpt-5\",\n",
    "        messages=[\n",
    "            {\"role\": \"system\", \"content\": prompt},\n",
    "            {\"role\": \"user\", \"content\": text}\n",
    "        ]\n",
    "    )\n",
    "    return response.choices[0].message.content"
   ]
  },
  {
   "cell_type": "markdown",
   "id": "033d147b",
   "metadata": {},
   "source": [
    "### 음석파일 -> text로 변환"
   ]
  },
  {
   "cell_type": "code",
   "execution_count": 9,
   "id": "7bff75da",
   "metadata": {},
   "outputs": [],
   "source": [
    "audio_file_path = \"datas/news.mp3\"\n",
    "with open(audio_file_path, 'rb') as audio_file:\n",
    "    transcription = client.audio.transcriptions.create(\n",
    "    model=\"whisper-1\",\n",
    "    file=audio_file,\n",
    "    response_format=\"text\"\n",
    ")"
   ]
  },
  {
   "cell_type": "markdown",
   "id": "5e67bb6e",
   "metadata": {},
   "source": [
    "### Summary 하기"
   ]
  },
  {
   "cell_type": "code",
   "execution_count": 10,
   "id": "97916745",
   "metadata": {},
   "outputs": [
    {
     "name": "stdout",
     "output_type": "stream",
     "text": [
      "{'abstract_summary': '짧은 장마와 긴 폭염으로 말벌 활동이 급증해 8~9월 쏘임사고 위험이 커졌고, 이에 따라 119의 벌집 제거 출동이 크게 늘었다. 최근 한 달 출동 건수는 4만4천 건으로 전년 대비 57% 증가했다. 소방대원들은 대피 유도 후 보호장비를 갖추고 벌집을 제거하며, 당국은 주변 벌집을 수시로 확인해 신고하고 말벌이 공격하면 즉시 약 20m 이상 떨어져 대피할 것을 당부했다.', 'key_points': '- 짧은 장마와 긴 폭염으로 말벌 활동이 급증, 119 출동 증가\\n- 건물 처마·사무실 창가 등 생활공간 인근에 대형 벌집 다수 발견\\n- 소방대원, 보호복 착용 후 스프레이로 분사·벌집 제거 작업 수행\\n- 말벌은 어두운 색을 공격하는 경향 → 소방대원은 하얀 보호복과 빈틈없는 밴딩으로 대응\\n- 하루 많게는 15건까지 출동 사례 보고\\n- 말벌 활동과 벌 쏘임 사고는 8~9월에 최다\\n- 지난달 벌집 제거 출동 4만4천 건, 전년 대비 57% 증가\\n- 원인: 짧은 장마·긴 폭염으로 말벌에 유리한 환경 형성\\n- 안전수칙: 말벌 잦은 구역은 주변 벌집 여부 확인 후 신고, 공격 시 현장에서 약 20m 이상 신속 이탈', 'action_items': '행동 항목 요약\\n\\n소방당국/119 대원\\n- 말벌 신고 접수 시 출동해 스프레이 살포 후 벌집 제거 수행\\n- 제거 작업 전 주변 인원 대피 조치\\n- 하얀색 말벌 보호복 착용 및 틈새를 밴드/테이프로 밀봉해 안전 확보\\n\\n시민/사업장(일반 대중)\\n- 말벌이 자주 보일 때 주변(처마, 창문 위 등)의 벌집 여부를 수시로 확인\\n- 벌집 발견 또는 말벌 출몰 시 119에 즉시 신고\\n- 말벌이 공격해 올 경우 현장에서 약 20m 이상 신속히 벗어나기', 'sentiment': '감정 분류: 부정적\\n\\n간략한 설명:\\n- 전반적 톤이 위험·경계·우려를 강조하는 보도형이며, 말벌 극성·출동 증가·쏘임사고 위험을 반복적으로 언급합니다.\\n- ‘극성’, ‘신고’, ‘제거작업’, ‘대피’, ‘공격’, ‘쏘임사고’, ‘늘었습니다’ 등 부정적·위험 관련 어휘가 다수 사용됩니다.\\n- 문체는 사실 전달 위주로 중립적이지만, 맥락상 재난/안전 이슈를 다뤄 전반적 정서가 부정적(우려·경계)으로 기울어 있습니다.'}\n"
     ]
    }
   ],
   "source": [
    "abstract_summary = text_extraction(transcription, summary_prompt)\n",
    "key_points = text_extraction(transcription, key_points_prompt)\n",
    "action_items = text_extraction(transcription, action_items_prompt)\n",
    "sentiment = text_extraction(transcription, sentiment_prompt)\n",
    "news_data = {\n",
    "    'abstract_summary': abstract_summary,\n",
    "    'key_points': key_points,\n",
    "    'action_items': action_items,\n",
    "    'sentiment': sentiment\n",
    "}\n",
    "print(news_data)"
   ]
  },
  {
   "cell_type": "code",
   "execution_count": 15,
   "id": "24d22128",
   "metadata": {},
   "outputs": [
    {
     "name": "stdout",
     "output_type": "stream",
     "text": [
      "abstract_summary : \n",
      " 짧은 장마와 긴 폭염으로 말벌 활동이 급증해 8~9월 쏘임사고 위험이 커졌고, 이에 따라 119의 벌집 제거 출동이 크게 늘었다. 최근 한 달 출동 건수는 4만4천 건으로 전년 대비 57% 증가했다. 소방대원들은 대피 유도 후 보호장비를 갖추고 벌집을 제거하며, 당국은 주변 벌집을 수시로 확인해 신고하고 말벌이 공격하면 즉시 약 20m 이상 떨어져 대피할 것을 당부했다. \n",
      "\n",
      "key_points : \n",
      " - 짧은 장마와 긴 폭염으로 말벌 활동이 급증, 119 출동 증가\n",
      "- 건물 처마·사무실 창가 등 생활공간 인근에 대형 벌집 다수 발견\n",
      "- 소방대원, 보호복 착용 후 스프레이로 분사·벌집 제거 작업 수행\n",
      "- 말벌은 어두운 색을 공격하는 경향 → 소방대원은 하얀 보호복과 빈틈없는 밴딩으로 대응\n",
      "- 하루 많게는 15건까지 출동 사례 보고\n",
      "- 말벌 활동과 벌 쏘임 사고는 8~9월에 최다\n",
      "- 지난달 벌집 제거 출동 4만4천 건, 전년 대비 57% 증가\n",
      "- 원인: 짧은 장마·긴 폭염으로 말벌에 유리한 환경 형성\n",
      "- 안전수칙: 말벌 잦은 구역은 주변 벌집 여부 확인 후 신고, 공격 시 현장에서 약 20m 이상 신속 이탈 \n",
      "\n",
      "action_items : \n",
      " 행동 항목 요약\n",
      "\n",
      "소방당국/119 대원\n",
      "- 말벌 신고 접수 시 출동해 스프레이 살포 후 벌집 제거 수행\n",
      "- 제거 작업 전 주변 인원 대피 조치\n",
      "- 하얀색 말벌 보호복 착용 및 틈새를 밴드/테이프로 밀봉해 안전 확보\n",
      "\n",
      "시민/사업장(일반 대중)\n",
      "- 말벌이 자주 보일 때 주변(처마, 창문 위 등)의 벌집 여부를 수시로 확인\n",
      "- 벌집 발견 또는 말벌 출몰 시 119에 즉시 신고\n",
      "- 말벌이 공격해 올 경우 현장에서 약 20m 이상 신속히 벗어나기 \n",
      "\n",
      "sentiment : \n",
      " 감정 분류: 부정적\n",
      "\n",
      "간략한 설명:\n",
      "- 전반적 톤이 위험·경계·우려를 강조하는 보도형이며, 말벌 극성·출동 증가·쏘임사고 위험을 반복적으로 언급합니다.\n",
      "- ‘극성’, ‘신고’, ‘제거작업’, ‘대피’, ‘공격’, ‘쏘임사고’, ‘늘었습니다’ 등 부정적·위험 관련 어휘가 다수 사용됩니다.\n",
      "- 문체는 사실 전달 위주로 중립적이지만, 맥락상 재난/안전 이슈를 다뤄 전반적 정서가 부정적(우려·경계)으로 기울어 있습니다. \n",
      "\n"
     ]
    }
   ],
   "source": [
    "dict_keys = news_data.items()\n",
    "for key, value in dict_keys:\n",
    "    print(f\"{key} : \\n {value} \\n\")"
   ]
  },
  {
   "cell_type": "markdown",
   "id": "0ab3e735",
   "metadata": {},
   "source": [
    "### DOC 파일로 저장\n",
    "- pip install python-docx"
   ]
  },
  {
   "cell_type": "code",
   "execution_count": 28,
   "id": "fff9153c",
   "metadata": {},
   "outputs": [],
   "source": [
    "from docx import Document\n",
    "doc = Document()\n",
    "\n",
    "for key, value in news_data.items():\n",
    "    heading = ''.join(word.capitalize() for word in key.split('_'))\n",
    "    doc.add_heading(heading, level=1)\n",
    "    doc.add_paragraph(value)\n",
    "    doc.add_paragraph()\n",
    "\n",
    "import os\n",
    "folder_path = 'output'\n",
    "os.makedirs(folder_path, exist_ok=True)\n",
    "doc.save('output/news_minutes.docx')"
   ]
  },
  {
   "cell_type": "code",
   "execution_count": null,
   "id": "82c7081d",
   "metadata": {},
   "outputs": [],
   "source": []
  }
 ],
 "metadata": {
  "kernelspec": {
   "display_name": "llm_env",
   "language": "python",
   "name": "python3"
  },
  "language_info": {
   "codemirror_mode": {
    "name": "ipython",
    "version": 3
   },
   "file_extension": ".py",
   "mimetype": "text/x-python",
   "name": "python",
   "nbconvert_exporter": "python",
   "pygments_lexer": "ipython3",
   "version": "3.10.19"
  }
 },
 "nbformat": 4,
 "nbformat_minor": 5
}
