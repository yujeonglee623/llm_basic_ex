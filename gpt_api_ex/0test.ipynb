{
 "cells": [
  {
   "cell_type": "markdown",
   "id": "28956250",
   "metadata": {},
   "source": [
    "# openai api key test"
   ]
  },
  {
   "cell_type": "markdown",
   "id": "659d6a5f",
   "metadata": {},
   "source": [
    "## API key Loading"
   ]
  },
  {
   "cell_type": "code",
   "execution_count": 3,
   "id": "05b997f7",
   "metadata": {},
   "outputs": [
    {
     "name": "stdout",
     "output_type": "stream",
     "text": [
      "api key"
     ]
    }
   ],
   "source": [
    "from dotenv import load_dotenv\n",
    "import os\n",
    "from pathlib import Path\n",
    "\n",
    "env_path = Path('.') / '.env'\n",
    "load_dotenv(dotenv_path=env_path)\n",
    "\n",
    "api_key = os.getenv('OPENAI_API_KEY')\n",
    "# print(api_key)"
   ]
  },
  {
   "cell_type": "markdown",
   "id": "7758c68d",
   "metadata": {},
   "source": [
    "## 라이브러리 로딩 및 객체 생성"
   ]
  },
  {
   "cell_type": "code",
   "execution_count": 4,
   "id": "a0ebf882",
   "metadata": {},
   "outputs": [],
   "source": [
    "from openai import OpenAI\n",
    "# openai api 인증 및 OpenAI 객체 생성\n",
    "client = OpenAI(api_key=api_key)"
   ]
  },
  {
   "cell_type": "markdown",
   "id": "1bd96bed",
   "metadata": {},
   "source": [
    "## GPT AI 모델에 질문하기"
   ]
  },
  {
   "cell_type": "code",
   "execution_count": 17,
   "id": "ad5fa222",
   "metadata": {},
   "outputs": [],
   "source": [
    "response = client.responses.create(\n",
    "    model=\"gpt-5\",\n",
    "    input=\"안녕, gpt-5는 처음이야.\"\n",
    ")"
   ]
  },
  {
   "cell_type": "markdown",
   "id": "a96455b8",
   "metadata": {},
   "source": [
    "## 응답 결과 파싱"
   ]
  },
  {
   "cell_type": "code",
   "execution_count": 7,
   "id": "ba5c87b7",
   "metadata": {},
   "outputs": [
    {
     "name": "stdout",
     "output_type": "stream",
     "text": [
      "Response(id='resp_000918c1cfc9894c0068fecc80dabc819e833182441ceab4ee', created_at=1761528960.0, error=None, incomplete_details=None, instructions=None, metadata={}, model='gpt-5-2025-08-07', object='response', output=[ResponseReasoningItem(id='rs_000918c1cfc9894c0068fecc81467c819ebb9e3f38b75e2ac7', summary=[], type='reasoning', content=None, encrypted_content=None, status=None), ResponseOutputMessage(id='msg_000918c1cfc9894c0068fecc85a8a4819eb7c57f71048747b7', content=[ResponseOutputText(annotations=[], text='안녕하세요! 만나서 반가워요. 저는 글쓰기·번역·요약, 코드 작성·디버깅, 수학 문제 풀이, 아이디어 브레인스토밍, 데이터·문서 분석, 이미지 설명/분석 같은 걸 도와드릴 수 있어요. 이미지나 파일을 주셔도 되고, 그냥 질문만 해도 됩니다.\\n\\n원하시는 걸 말씀해 주세요. 예:\\n- “이 문장 더 자연스럽게 고쳐줘.”\\n- “파이썬으로 CSV 읽어서 그래프 그리는 코드 만들어줘.”\\n- “이 이미지를 보고 핵심 정보를 요약해줘.”\\n- “여행 일정 3일치로 간단히 짜줘.”\\n\\n어떤 주제부터 시작할까요?', type='output_text', logprobs=[])], role='assistant', status='completed', type='message')], parallel_tool_calls=True, temperature=1.0, tool_choice='auto', tools=[], top_p=1.0, background=False, conversation=None, max_output_tokens=None, max_tool_calls=None, previous_response_id=None, prompt=None, prompt_cache_key=None, reasoning=Reasoning(effort='medium', generate_summary=None, summary=None), safety_identifier=None, service_tier='default', status='completed', text=ResponseTextConfig(format=ResponseFormatText(type='text'), verbosity='medium'), top_logprobs=0, truncation='disabled', usage=ResponseUsage(input_tokens=18, input_tokens_details=InputTokensDetails(cached_tokens=0), output_tokens=294, output_tokens_details=OutputTokensDetails(reasoning_tokens=128), total_tokens=312), user=None, billing={'payer': 'developer'}, store=True)\n"
     ]
    }
   ],
   "source": [
    "print(response)"
   ]
  },
  {
   "cell_type": "markdown",
   "id": "d438e654",
   "metadata": {},
   "source": [
    "- AI의 응답결과  \n",
    "Response(id='resp_000918c1cfc9894c0068fecc80dabc819e833182441ceab4ee', created_at=1761528960.0, error=None, incomplete_details=None, instructions=None, metadata={}, model='gpt-5-2025-08-07', object='response', output=[ResponseReasoningItem(id='rs_000918c1cfc9894c0068fecc81467c819ebb9e3f38b75e2ac7', summary=[], type='reasoning', content=None, encrypted_content=None, status=None), ResponseOutputMessage(id='msg_000918c1cfc9894c0068fecc85a8a4819eb7c57f71048747b7', content=[ResponseOutputText(annotations=[], text='안녕하세요! 만나서 반가워요. 저는 글쓰기·번역·요약, 코드 작성·디버깅, 수학 문제 풀이, 아이디어 브레인스토밍, 데이터·문서 분석, 이미지 설명/분석 같은 걸 도와드릴 수 있어요. 이미지나 파일을 주셔도 되고, 그냥 질문만 해도 됩니다.\\n\\n원하시는 걸 말씀해 주세요. 예:\\n- “이 문장 더 자연스럽게 고쳐줘.”\\n- “파이썬으로 CSV 읽어서 그래프 그리는 코드 만들어줘.”\\n- “이 이미지를 보고 핵심 정보를 요약해줘.”\\n- “여행 일정 3일치로 간단히 짜줘.”\\n\\n어떤 주제부터 시작할까요?', type='output_text', logprobs=[])], role='assistant', status='completed', type='message')], parallel_tool_calls=True, temperature=1.0, tool_choice='auto', tools=[], top_p=1.0, background=False, conversation=None, max_output_tokens=None, max_tool_calls=None, previous_response_id=None, prompt=None, prompt_cache_key=None, reasoning=Reasoning(effort='medium', generate_summary=None, summary=None), safety_identifier=None, service_tier='default', status='completed', text=ResponseTextConfig(format=ResponseFormatText(type='text'), verbosity='medium'), top_logprobs=0, truncation='disabled', usage=ResponseUsage(input_tokens=18, input_tokens_details=InputTokensDetails(cached_tokens=0), output_tokens=294, output_tokens_details=OutputTokensDetails(reasoning_tokens=128), total_tokens=312), user=None, billing={'payer': 'developer'}, store=True)"
   ]
  },
  {
   "cell_type": "code",
   "execution_count": 8,
   "id": "b9b3772d",
   "metadata": {},
   "outputs": [
    {
     "name": "stdout",
     "output_type": "stream",
     "text": [
      "안녕하세요! 만나서 반가워요. 저는 글쓰기·번역·요약, 코드 작성·디버깅, 수학 문제 풀이, 아이디어 브레인스토밍, 데이터·문서 분석, 이미지 설명/분석 같은 걸 도와드릴 수 있어요. 이미지나 파일을 주셔도 되고, 그냥 질문만 해도 됩니다.\n",
      "\n",
      "원하시는 걸 말씀해 주세요. 예:\n",
      "- “이 문장 더 자연스럽게 고쳐줘.”\n",
      "- “파이썬으로 CSV 읽어서 그래프 그리는 코드 만들어줘.”\n",
      "- “이 이미지를 보고 핵심 정보를 요약해줘.”\n",
      "- “여행 일정 3일치로 간단히 짜줘.”\n",
      "\n",
      "어떤 주제부터 시작할까요?\n"
     ]
    }
   ],
   "source": [
    "print(response.output_text)"
   ]
  },
  {
   "cell_type": "markdown",
   "id": "9d633093",
   "metadata": {},
   "source": [
    "## 플레이그라운드를 이용한 실습"
   ]
  },
  {
   "cell_type": "markdown",
   "id": "590997d6",
   "metadata": {},
   "source": [
    "# GPT 모델 Prompt 이해\n",
    "- Prompt 구조 이해"
   ]
  },
  {
   "cell_type": "code",
   "execution_count": 5,
   "id": "16fa6444",
   "metadata": {},
   "outputs": [],
   "source": [
    "# openai gpt객체 생성\n",
    "client = OpenAI(api_key=api_key)"
   ]
  },
  {
   "cell_type": "code",
   "execution_count": 35,
   "id": "c675bade",
   "metadata": {},
   "outputs": [],
   "source": [
    "completion = client.chat.completions.create(\n",
    "    model = 'gpt-3.5-turbo',\n",
    "    messages = [\n",
    "        # System Prompt\n",
    "        {\n",
    "            \"role\" : \"system\",\n",
    "            \"content\": \"너는 IT 전문가야. 자세하고 상세하게 설명해줘.\"\n",
    "        },\n",
    "        # User Prompt\n",
    "        {\n",
    "            \"role\" : \"user\",\n",
    "            \"content\" : \"클라우드와 플랫폼의 차이를 설명해줘\"\n",
    "        }\n",
    "    ]\n",
    "    \n",
    ")"
   ]
  },
  {
   "cell_type": "code",
   "execution_count": 36,
   "id": "85c1c445",
   "metadata": {},
   "outputs": [
    {
     "data": {
      "text/plain": [
       "ChatCompletion(id='chatcmpl-CV8NsCRoW3RgEVTAA7u18tvQaiMUj', choices=[Choice(finish_reason='stop', index=0, logprobs=None, message=ChatCompletionMessage(content='클라우드 컴퓨팅은 인터넷을 통해 컴퓨팅 서비스를 제공하는 기술을 의미합니다. 기본적으로 데이터와 애플리케이션을 인터넷을 통해 원격 서버에 저장하고 처리하는 것을 의미합니다. 클라우드 컴퓨팅은 고객이 필요에 따라 서버, 스토리지, 네트워크 및 다양한 IT 자원을 필요한 만큼 렌탈하고 사용할 수 있도록 합니다. 대부분의 경우, 클라우드 서비스는 유연성, 확장성, 안전성 및 접근성을 향상시킵니다.\\n\\n플랫폼은 소프트웨어를 개발하거나 실행하기 위한 환경을 제공하는 기술입니다. 플랫폼은 주로 개발자가 소프트웨어 애플리케이션을 만들고 실행하는 데 사용됩니다. 예를 들어, 운영 체제, 데이터베이스, 개발 도구, 미들웨어 등을 포함할 수 있습니다. 일반적으로 플랫폼은 애플리케이션의 실행, 관리, 감시 및 확장을 지원하기 위한 각종 서비스와 도구를 제공합니다.\\n\\n따라서, 클라우드는 IT 자원을 외부에서 렌탈하여 사용하는 서비스를 의미하고, 플랫폼은 소프트웨어 개발 및 실행에 필요한 환경을 제공하는 기술을 의미합니다.클라우드 컴퓨팅은 인터넷을 통해 컴퓨팅 서비스를 제공하는 기술을 의미합니다. 기본적으로 데이터와 애플리케이션을 인터넷을 통해 원격 서버에 저장하고 처리하는 것을 의미합니다. 클라우드 컴퓨팅은 고객이 필요에 따라 서버, 스토리지, 네트워크 및 다양한 IT 자원을 필요한 만큼 렌탈하고 사용할 수 있도록 합니다. 대부분의 경우, 클라우드 서비스는 유연성, 확장성, 안전성 및 접근성을 향상시킵니다.\\n\\n플랫폼은 소프트웨어를 개발하거나 실행하기 위한 환경을 제공하는 기술입니다. 플랫폼은 주로 개발자가 소프트웨어 애플리케이션을 만들고 실행하는 데 사용됩니다. 예를 들어, 운영 체제, 데이터베이스, 개발 도구, 미들웨어 등을 포함할 수 있습니다. 일반적으로 플랫폼은 애플리케이션의 실행, 관리, 감시 및 확장을 지원하기 위한 각종 서비스와 도구를 제공합니다.\\n\\n따라서, 클라우드는 IT 자원을 외부에서 렌탈하여 사용하는 서비스를 의미하고, 플랫폼은 소프트웨어 개발 및 실행에 필요한 환경을 제공하는 기술을 의미합니다.', refusal=None, role='assistant', annotations=[], audio=None, function_call=None, tool_calls=None))], created=1761536432, model='gpt-3.5-turbo-0125', object='chat.completion', service_tier='default', system_fingerprint=None, usage=CompletionUsage(completion_tokens=956, prompt_tokens=58, total_tokens=1014, completion_tokens_details=CompletionTokensDetails(accepted_prediction_tokens=0, audio_tokens=0, reasoning_tokens=0, rejected_prediction_tokens=0), prompt_tokens_details=PromptTokensDetails(audio_tokens=0, cached_tokens=0)))"
      ]
     },
     "execution_count": 36,
     "metadata": {},
     "output_type": "execute_result"
    }
   ],
   "source": [
    "completion"
   ]
  },
  {
   "cell_type": "code",
   "execution_count": 37,
   "id": "88520072",
   "metadata": {},
   "outputs": [
    {
     "name": "stdout",
     "output_type": "stream",
     "text": [
      "클라우드 컴퓨팅은 인터넷을 통해 컴퓨팅 서비스를 제공하는 기술을 의미합니다. 기본적으로 데이터와 애플리케이션을 인터넷을 통해 원격 서버에 저장하고 처리하는 것을 의미합니다. 클라우드 컴퓨팅은 고객이 필요에 따라 서버, 스토리지, 네트워크 및 다양한 IT 자원을 필요한 만큼 렌탈하고 사용할 수 있도록 합니다. 대부분의 경우, 클라우드 서비스는 유연성, 확장성, 안전성 및 접근성을 향상시킵니다.\n",
      "\n",
      "플랫폼은 소프트웨어를 개발하거나 실행하기 위한 환경을 제공하는 기술입니다. 플랫폼은 주로 개발자가 소프트웨어 애플리케이션을 만들고 실행하는 데 사용됩니다. 예를 들어, 운영 체제, 데이터베이스, 개발 도구, 미들웨어 등을 포함할 수 있습니다. 일반적으로 플랫폼은 애플리케이션의 실행, 관리, 감시 및 확장을 지원하기 위한 각종 서비스와 도구를 제공합니다.\n",
      "\n",
      "따라서, 클라우드는 IT 자원을 외부에서 렌탈하여 사용하는 서비스를 의미하고, 플랫폼은 소프트웨어 개발 및 실행에 필요한 환경을 제공하는 기술을 의미합니다.클라우드 컴퓨팅은 인터넷을 통해 컴퓨팅 서비스를 제공하는 기술을 의미합니다. 기본적으로 데이터와 애플리케이션을 인터넷을 통해 원격 서버에 저장하고 처리하는 것을 의미합니다. 클라우드 컴퓨팅은 고객이 필요에 따라 서버, 스토리지, 네트워크 및 다양한 IT 자원을 필요한 만큼 렌탈하고 사용할 수 있도록 합니다. 대부분의 경우, 클라우드 서비스는 유연성, 확장성, 안전성 및 접근성을 향상시킵니다.\n",
      "\n",
      "플랫폼은 소프트웨어를 개발하거나 실행하기 위한 환경을 제공하는 기술입니다. 플랫폼은 주로 개발자가 소프트웨어 애플리케이션을 만들고 실행하는 데 사용됩니다. 예를 들어, 운영 체제, 데이터베이스, 개발 도구, 미들웨어 등을 포함할 수 있습니다. 일반적으로 플랫폼은 애플리케이션의 실행, 관리, 감시 및 확장을 지원하기 위한 각종 서비스와 도구를 제공합니다.\n",
      "\n",
      "따라서, 클라우드는 IT 자원을 외부에서 렌탈하여 사용하는 서비스를 의미하고, 플랫폼은 소프트웨어 개발 및 실행에 필요한 환경을 제공하는 기술을 의미합니다.\n"
     ]
    }
   ],
   "source": [
    "print(completion.choices[0].message.content)"
   ]
  },
  {
   "cell_type": "code",
   "execution_count": 16,
   "id": "71eab1a0",
   "metadata": {},
   "outputs": [],
   "source": [
    "completion = client.chat.completions.create(\n",
    "    model = 'gpt-5',\n",
    "    messages = [\n",
    "        # System Prompt\n",
    "        {\n",
    "            \"role\" : \"system\",\n",
    "            \"content\": \"너는 IT 전문가야. 자세하고 상세하게 설명해줘.\"\n",
    "        },\n",
    "        # User Prompt\n",
    "        {\n",
    "            \"role\" : \"user\",\n",
    "            \"content\" : \"클라우드와 플랫폼의 차이를 설명해줘\"\n",
    "        }\n",
    "    ],\n",
    "    temperature=1,\n",
    "    # max_tokens=1024 <- 사용자 설정 불가능\n",
    "    # top_p=0.5, <- 사용자 설정 불가능\n",
    ")"
   ]
  },
  {
   "cell_type": "code",
   "execution_count": 17,
   "id": "fea300ce",
   "metadata": {},
   "outputs": [
    {
     "name": "stdout",
     "output_type": "stream",
     "text": [
      "요약\n",
      "- 클라우드: 컴퓨팅 자원(서버, 스토리지, 네트워크, 데이터베이스 등)을 인터넷을 통해 주문형으로 제공하는 전달/운영 모델.\n",
      "- 플랫폼: 애플리케이션을 만들고 실행하고 운영하도록 돕는 실행 환경과 도구의 집합(런타임, 미들웨어, 프레임워크, 파이프라인 등). 클라우드 위에서 작동할 수도, 온프레미스에 구축될 수도 있음.\n",
      "\n",
      "1) 클라우드(Cloud)란?\n",
      "- 정의: NIST가 정의한 특성(온디맨드 셀프서비스, 광범위한 네트워크 접근, 자원 풀링, 신속한 탄력성, 측정 기반 과금)을 만족하는 컴퓨팅 제공 방식.\n",
      "- 유형\n",
      "  - 퍼블릭 클라우드: AWS, Azure, GCP 등 외부 사업자 인프라를 공유해 사용\n",
      "  - 프라이빗 클라우드: 기업 자체 데이터센터에 클라우드 방식(가상화/자동화) 도입\n",
      "  - 하이브리드/멀티 클라우드: 퍼블릭+프라이빗 혼합 또는 여러 퍼블릭 조합\n",
      "- 서비스 모델\n",
      "  - IaaS: 가상머신, 블록스토리지, VPC 등 인프라만 제공. OS 이상은 사용자가 관리\n",
      "  - PaaS: 런타임/미들웨어까지 제공(예: 애플리케이션 플랫폼). 코드 배포에 집중\n",
      "  - SaaS: 완성 앱 제공(예: 이메일, CRM). 사용자는 설정만\n",
      "  - FaaS/서버리스: 이벤트 기반 함수 실행. 서버 관리 추상화\n",
      "- 핵심 가치: 초기 투자 없이 빠른 확장/축소, 사용량 기반 과금, 글로벌 리전 제공, 운영 자동화\n",
      "\n",
      "2) 플랫폼(Platform)란?\n",
      "- 정의: 소프트웨어를 개발·실행·운영하기 위한 공통 기반(런타임, 프레임워크, 데이터/메시징, 보안, 관측/CI-CD, API, 마켓플레이스 등)의 묶음. “무엇을 만들고 돌릴 수 있게 하는 층(layer)”.\n",
      "- 형태\n",
      "  - 애플리케이션/런타임 플랫폼: Java/.NET 런타임, Node.js, Spring, 웹서버/애플리케이션 서버, 서버리스 런타임\n",
      "  - 컨테이너/오케스트레이션 플랫폼: Kubernetes, OpenShift\n",
      "  - 데이터/AI 플랫폼: 데이터 웨어하우스/레이크, 스트리밍(Kafka), ML/MLOps\n",
      "  - 통합(iPaaS)/API 플랫폼: iPaaS, API 게이트웨이/관리\n",
      "  - 로우코드/백엔드 서비스 플랫폼: Heroku, Firebase, Vercel 등\n",
      "- 배치 위치: 클라우드 위에서도, 온프레미스(자체 서버)에서도 동작 가능\n",
      "- 비즈니스 용어로서의 “플랫폼”: 다면 시장(예: 앱스토어, 우버)도 플랫폼이라 부르지만, 기술 관점에선 위 의미로 쓰는 경우가 많음\n",
      "\n",
      "3) 핵심 차이점\n",
      "- 관점/범위\n",
      "  - 클라우드: “어디서, 어떻게” 자원을 제공·운영하는가(전달 모델)\n",
      "  - 플랫폼: “무엇을, 어떤 방식으로” 만들고 실행하게 하는가(추상화/개발·운영 환경)\n",
      "- 포함관계\n",
      "  - 클라우드는 IaaS/PaaS/SaaS 등 다양한 계층을 포함. 그중 PaaS/서버리스 등은 ‘플랫폼’ 성격이 강함\n",
      "  - 플랫폼은 클라우드를 사용할 수도 있지만 필수는 아님(온프레미스 플랫폼 존재)\n",
      "- 책임 범위\n",
      "  - IaaS(클라우드): OS, 런타임, 패치, 확장 전략 등은 사용자가 책임\n",
      "  - 플랫폼(PaaS/서버리스 등): 런타임/미들웨어/스케일링을 플랫폼이 관리, 사용자는 비즈니스 로직 중심\n",
      "- 유연성 vs 생산성\n",
      "  - 클라우드 IaaS: 가장 유연하고 저수준 제어 가능, 대신 복잡도/운영 부담 큼\n",
      "  - 플랫폼: 속도와 일관성, 거버넌스 내장. 대신 추상화로 인한 제약·벤더 종속 가능성\n",
      "- 배포 속도/운영\n",
      "  - 클라우드만으로도 자동화 가능하지만 설계가 필요\n",
      "  - 플랫폼은 표준화된 파이프라인/관측/보안정책을 내장해 Time-to-Value가 짧음\n",
      "\n",
      "4) 예시로 이해하기\n",
      "- 웹 서비스를 만든다면\n",
      "  - IaaS(클라우드): EC2에 OS 설치→웹서버/런타임 구성→오토스케일링, 로깅/모니터링 직접 설계\n",
      "  - PaaS/플랫폼: 애플리케이션 코드 푸시→자동 빌드/배포/스케일링, 로그/모니터링 기본 제공\n",
      "  - 서버리스 플랫폼: 요청 수에 맞춰 자동 실행/확장, 인프라 관리 최소화\n",
      "  - SaaS: 자체 개발 대신 완성형 제품 구독(예: CMS, 전자상거래)\n",
      "\n",
      "5) 선택 가이드\n",
      "- IaaS 중심(클라우드 우선): 특수한 시스템 요구, 고도 커스터마이징/성능 튜닝 필요, 레거시 마이그레이션\n",
      "- 플랫폼 우선(PaaS/서버리스/내부 개발자 플랫폼): 빠른 출시, 소규모 팀, 표준화/거버넌스, 운영 자동화가 중요\n",
      "- 하이브리드: 코어 시스템은 IaaS, 대다수 신규 서비스는 플랫폼으로 가속\n",
      "- 벤더 종속 리스크 관리: 멀티클라우드·컨테이너 기반 플랫폼으로 이식성 확보, 계약·데이터 이관 전략 준비\n",
      "\n",
      "비유\n",
      "- 클라우드 = 전기/수도 같은 유틸리티(필요할 때 쓰고 사용량 과금)\n",
      "- 플랫폼 = 주방의 조리대·도구 세트(조리를 쉽게 표준화). 클라우드라는 건물에서 쓸 수도, 집(온프레미스)에서도 쓸 수 있음\n",
      "\n",
      "결론\n",
      "- 클라우드는 자원을 제공하는 방식(운영 모델), 플랫폼은 그 자원 위에서 소프트웨어를 만들고 돌리는 환경(추상화 계층)입니다. 클라우드는 플랫폼을 포함할 수 있고, 플랫폼은 클라우드 위나 온프레미스 어디서든 구현될 수 있습니다. 목적이 “제어/유연성”이면 클라우드(IaaS) 쪽, “속도/일관성/운영 효율”이면 플랫폼 쪽 비중을 높이는 것이 일반적입니다.\n"
     ]
    }
   ],
   "source": [
    "print(completion.choices[0].message.content)"
   ]
  },
  {
   "cell_type": "code",
   "execution_count": 18,
   "id": "467a92d4",
   "metadata": {},
   "outputs": [],
   "source": [
    "completion = client.chat.completions.create(\n",
    "    model = 'gpt-4',\n",
    "    messages = [\n",
    "        # System Prompt\n",
    "        {\n",
    "            \"role\" : \"system\",\n",
    "            \"content\": \"너는 IT 전문가야. 자세하고 상세하게 설명해줘.\"\n",
    "        },\n",
    "        # User Prompt\n",
    "        {\n",
    "            \"role\" : \"user\",\n",
    "            \"content\" : \"클라우드와 플랫폼의 차이를 설명해줘\"\n",
    "        }\n",
    "    ],\n",
    "    temperature=1,\n",
    "    max_tokens=4000, # <- 사용자 설정 불가능\n",
    "    top_p=0.5, # <- 사용자 설정 불가능\n",
    ")"
   ]
  },
  {
   "cell_type": "code",
   "execution_count": 14,
   "id": "c7b98692",
   "metadata": {},
   "outputs": [
    {
     "name": "stdout",
     "output_type": "stream",
     "text": [
      "클라우드와 플랫폼은 모두 디지털 환경에서 중요한 역할을 하는데, 이 둘은 다음과 같이 서로 다른 개념입니다.\n",
      "\n",
      "1. 클라우드: 클라우드는 인터넷을 통해 서버, 스토리지, 데이터베이스, 네트워킹, 소프트웨어, 분석 등 다양한 컴퓨팅 서비스를 제공하는 것을 말합니다. 이는 사용자가 필요에 따라 이러한 리소스를 실시간으로 사용하고 비용을 지불할 수 있게 해줍니다. 클라우드는 온프레미스(사용자의 물리적 위치) 환경에서 필요한 모든 IT 인프라를 관리하는 대신, 이러한 서비스를 제공하는 공급업체에게 위임하여 비용을 절감하고 효율성을 높일 수 있습니다.\n",
      "\n",
      "2. 플랫폼: 플랫폼은 애플리케이션을 개발하고 실행하는 데 필요한 하드웨어와 소프트웨어를 제공하는 기반 구조를 말합니다. 이는 개발자가 애플리케이션을 더 쉽게 개발하고 배포할 수 있도록 도와줍니다. 플랫폼은 일반적으로 운영 체제, 데이터베이스, 웹 서버 등을 포함하며, 이러한 컴포넌트들은 애플리케이션을 구동하는 데 필요한 기능을 제공합니다.\n",
      "\n",
      "클라우드와 플랫폼의 가장 큰 차이점은, 클라우드가 IT 리소스를 제공하는 반면, 플랫폼은 애플리케이션 개발에 필요한 도구와 서비스를 제공한다는 것입니다. 또한, 플랫폼은 클라우드 위에 구축될 수 있으며, 이를 '클라우드 플랫폼'이라고도 부릅니다. 이러한 클라우드 플랫폼은 사용자가 인터넷을 통해 액세스할 수 있는 애플리케이션 개발 및 배포 환경을 제공합니다.\n"
     ]
    }
   ],
   "source": [
    "print(completion.choices[0].message.content)"
   ]
  },
  {
   "cell_type": "code",
   "execution_count": null,
   "id": "b45e715d",
   "metadata": {},
   "outputs": [],
   "source": []
  }
 ],
 "metadata": {
  "kernelspec": {
   "display_name": "llm_env",
   "language": "python",
   "name": "python3"
  },
  "language_info": {
   "codemirror_mode": {
    "name": "ipython",
    "version": 3
   },
   "file_extension": ".py",
   "mimetype": "text/x-python",
   "name": "python",
   "nbconvert_exporter": "python",
   "pygments_lexer": "ipython3",
   "version": "3.10.19"
  }
 },
 "nbformat": 4,
 "nbformat_minor": 5
}
