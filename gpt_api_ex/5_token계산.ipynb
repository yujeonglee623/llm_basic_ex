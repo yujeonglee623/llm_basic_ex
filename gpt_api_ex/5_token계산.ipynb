{
 "cells": [
  {
   "cell_type": "markdown",
   "id": "28956250",
   "metadata": {},
   "source": [
    "# openai api key test"
   ]
  },
  {
   "cell_type": "markdown",
   "id": "659d6a5f",
   "metadata": {},
   "source": [
    "## API key Loading"
   ]
  },
  {
   "cell_type": "code",
   "execution_count": 1,
   "id": "05b997f7",
   "metadata": {},
   "outputs": [],
   "source": [
    "from openai import OpenAI\n",
    "from dotenv import load_dotenv\n",
    "import os\n",
    "\n",
    "# 환경변수 로딩\n",
    "load_dotenv(override=True)\n",
    "\n",
    "# 메모리에 로딩된 값을 api_key 변수에 대입\n",
    "OPENAI_API_KEY = os.environ.get(\"OPENAI_API_KEY\")\n",
    "# print(api_key)"
   ]
  },
  {
   "cell_type": "markdown",
   "id": "7758c68d",
   "metadata": {},
   "source": [
    "## 라이브러리 로딩 및 객체 생성"
   ]
  },
  {
   "cell_type": "code",
   "execution_count": 2,
   "id": "a0ebf882",
   "metadata": {},
   "outputs": [],
   "source": [
    "from openai import OpenAI\n",
    "# openai api 인증 및 OpenAI 객체 생성\n",
    "client = OpenAI(api_key=OPENAI_API_KEY)"
   ]
  },
  {
   "cell_type": "code",
   "execution_count": 3,
   "id": "b45e715d",
   "metadata": {},
   "outputs": [
    {
     "name": "stdout",
     "output_type": "stream",
     "text": [
      "10\n"
     ]
    }
   ],
   "source": [
    "import tiktoken\n",
    "\n",
    "# 모델별 인코더 불러오기\n",
    "encoding = tiktoken.encoding_for_model(\"gpt-4o-mini\")\n",
    "\n",
    "text = \"안녕하세요, GPT 토큰 계산 테스트입니다.\"\n",
    "tokens = encoding.encode(text)\n",
    "\n",
    "print(len(tokens))  # 토큰 개수 출력\n"
   ]
  },
  {
   "cell_type": "code",
   "execution_count": 5,
   "id": "d7ae2cab",
   "metadata": {},
   "outputs": [
    {
     "name": "stdout",
     "output_type": "stream",
     "text": [
      "예상 비용: $0.022\n"
     ]
    }
   ],
   "source": [
    "def calc_cost(model, prompt_tokens, completion_tokens):\n",
    "    rates = {\n",
    "        \"gpt-4o\": {\"in\": 0.005, \"out\": 0.015},\n",
    "        \"gpt-4o-mini\": {\"in\": 0.00015, \"out\": 0.0006},\n",
    "        \"gpt-4-turbo\": {\"in\": 0.01, \"out\": 0.03},\n",
    "        \"gpt-5\": {\"in\": 0.00125, \"out\": 0.01},       # (1M = $1.25 / $10 기준)\n",
    "        \"gpt-5-mini\": {\"in\": 0.00025, \"out\": 0.002}, # (1M = $0.25 / $2 기준)\n",
    "        \"gpt-5-nano\": {\"in\": 0.00005, \"out\": 0.0004},\n",
    "        \"gpt-5-pro\": {\"in\": 0.015, \"out\": 0.12},\n",
    "    }\n",
    "\n",
    "    if model not in rates:\n",
    "        raise ValueError(\"모델 요금 정보를 찾을 수 없습니다.\")\n",
    "\n",
    "    in_rate = rates[model][\"in\"]\n",
    "    out_rate = rates[model][\"out\"]\n",
    "\n",
    "    cost = (prompt_tokens / 1000 * in_rate) + (completion_tokens / 1000 * out_rate)\n",
    "    return round(cost, 6)\n",
    "\n",
    "\n",
    "# 예시\n",
    "prompt_tokens = 800\n",
    "completion_tokens = 1200\n",
    "model = \"gpt-4o\"\n",
    "\n",
    "print(f\"예상 비용: ${calc_cost(model, prompt_tokens, completion_tokens)}\")\n"
   ]
  },
  {
   "cell_type": "code",
   "execution_count": null,
   "id": "a6d30fc3",
   "metadata": {},
   "outputs": [],
   "source": []
  }
 ],
 "metadata": {
  "kernelspec": {
   "display_name": "llm_env",
   "language": "python",
   "name": "python3"
  },
  "language_info": {
   "codemirror_mode": {
    "name": "ipython",
    "version": 3
   },
   "file_extension": ".py",
   "mimetype": "text/x-python",
   "name": "python",
   "nbconvert_exporter": "python",
   "pygments_lexer": "ipython3",
   "version": "3.10.19"
  }
 },
 "nbformat": 4,
 "nbformat_minor": 5
}
