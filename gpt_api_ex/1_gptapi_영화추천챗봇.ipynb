{
 "cells": [
  {
   "cell_type": "markdown",
   "id": "28956250",
   "metadata": {},
   "source": [
    "# openai api key test"
   ]
  },
  {
   "cell_type": "markdown",
   "id": "659d6a5f",
   "metadata": {},
   "source": [
    "## API key Loading"
   ]
  },
  {
   "cell_type": "code",
   "execution_count": 1,
   "id": "05b997f7",
   "metadata": {},
   "outputs": [],
   "source": [
    "from openai import OpenAI\n",
    "from dotenv import load_dotenv\n",
    "import os\n",
    "\n",
    "# 환경변수 로딩\n",
    "load_dotenv(override=True)\n",
    "\n",
    "# 메모리에 로딩된 값을 api_key 변수에 대입\n",
    "OPENAI_API_KEY = os.environ.get(\"OPENAI_API_KEY\")\n",
    "# print(api_key)"
   ]
  },
  {
   "cell_type": "markdown",
   "id": "7758c68d",
   "metadata": {},
   "source": [
    "## 라이브러리 로딩 및 객체 생성"
   ]
  },
  {
   "cell_type": "code",
   "execution_count": 2,
   "id": "a0ebf882",
   "metadata": {},
   "outputs": [],
   "source": [
    "from openai import OpenAI\n",
    "# openai api 인증 및 OpenAI 객체 생성\n",
    "client = OpenAI(api_key=OPENAI_API_KEY)"
   ]
  },
  {
   "cell_type": "markdown",
   "id": "e83ff94b",
   "metadata": {},
   "source": [
    "## 챗봇 기본"
   ]
  },
  {
   "cell_type": "code",
   "execution_count": 4,
   "id": "b45e715d",
   "metadata": {},
   "outputs": [
    {
     "name": "stdout",
     "output_type": "stream",
     "text": [
      "1. '미쓰 와이프' - 여주인공이 남편의 애인을 찾아가는 코믹한 이야기를 그린 영화로, 여성들이 공감할 수 있는 이야기와 웃음 포인트가 풍부합니다.\n",
      "\n",
      "2. '브라이즈메이즈' - 여자들끼리의 우정과 결혼식을 준비하면서 벌어지는 재미있는 사건들을 다룬 영화로, 여성들이 공감하고 웃을 수 있는 내용으로 구성되어 있습니다.\n",
      "\n",
      "3. '미스컨덕트' - 고등학교 선생님과 학생들의 유쾌한 이야기를 다룬 영화로, 여성들뿐만 아니라 모든 관람객이 즐길 수 있는 코믹한 요소가 있습니다.\n",
      "messages의 싱테:  [{'role': 'user', 'content': '20대 여자가 볼만한 코믹영화 3개정도 추천해줘'}, {'role': 'assistant', 'content': 'chat_response'}]\n",
      "죄책감을 느끼며 살아가는 여주인공이 우연한 기회로 마법사가 된 후, 남자친구와 함께 새로운 삶을 시작하는데, 마법을 오용하게 되어 예기치 않은 상황들이 벌어지면서 순수하고 유쾌한 재미를 선사하는 이야기이다. 여주인공은 자신의 능력을 긍정적으로 활용하여 삶에 대한 새로운 시선을 얻게 되고, 마침내 자신을 깨닫게 되는 것을 통해 성장하는 과정을 그린다.재미와 감동을 통해 관객에게 즐거움을 선사하며, 마법이라는 소재를 통해 삶의 진정한 의미와 가치에 대해 생각해보게 하는 이야기이다.\n",
      "messages의 싱테:  [{'role': 'user', 'content': '20대 여자가 볼만한 코믹영화 3개정도 추천해줘'}, {'role': 'assistant', 'content': 'chat_response'}, {'role': 'user', 'content': '위에서 설명한 3번 영화에 대한 줄거리를 5줄로 요약해줘'}, {'role': 'assistant', 'content': 'chat_response'}]\n",
      "1. 러브 액츄얼리(2003) - 즐거운 로맨틱 코미디 영화로, 여자 주인공이 남자 주인공에게 짝사랑을 하면서 벌어지는 유쾌한 이야기를 그린 작품\n",
      "2. 시간을 달리는 소녀(2006) - 시간을 돌아가는 능력을 가진 여주인공이 자신의 과거와 현재를 넘나들며 자신의 인생을 돌아보는 로맨틱 판타지 영화\n",
      "3. 어비스(2012) - 미래의 자신이 현재의 자신에게 현실을 바꾸기 위한 조언을 하는 과거-미래의 시간 여행 로맨틱 코미디 영화\n",
      "messages의 싱테:  [{'role': 'user', 'content': '20대 여자가 볼만한 코믹영화 3개정도 추천해줘'}, {'role': 'assistant', 'content': 'chat_response'}, {'role': 'user', 'content': '위에서 설명한 3번 영화에 대한 줄거리를 5줄로 요약해줘'}, {'role': 'assistant', 'content': 'chat_response'}, {'role': 'user', 'content': '로맨스가 있는걸로 다시 추천해줘'}, {'role': 'assistant', 'content': 'chat_response'}]\n",
      "알겠어요! 20대 여자가 즐길 수 있는 로맨틱 코미디 영화 3편을 추천해드릴게요.\n",
      "\n",
      "1. \"러브액츄얼리\" - 영국의 크리스마스를 배경으로 미국과 영국의 사랑 이야기를 담은 이 영화는 따뜻한 감동과 웃음을 선사합니다.\n",
      "   \n",
      "2. \"썸씽 우드\" - 남자와 여자 간의 운명적인 만남을 그린 이 영화는 유쾌한 유머와 달콤한 로맨스가 어우러져 있어 여성들에게 인기가 많아요.\n",
      "   \n",
      "3. \"친구사이?\" - 서로 친구인 척을 하면서 서서히 사랑에 빠지는 두 주인공의 이야기를 그린 이 영화는 사랑스러운 케미와 재미있는 상황묘사가 매력적입니다.\n",
      "\n",
      "이 세 편의 영화를 통해 로맨틱 코미디 장르를 즐길 수 있을 거예요. 즐거운 영화 시간 보내세요!\n",
      "messages의 싱테:  [{'role': 'user', 'content': '20대 여자가 볼만한 코믹영화 3개정도 추천해줘'}, {'role': 'assistant', 'content': 'chat_response'}, {'role': 'user', 'content': '위에서 설명한 3번 영화에 대한 줄거리를 5줄로 요약해줘'}, {'role': 'assistant', 'content': 'chat_response'}, {'role': 'user', 'content': '로맨스가 있는걸로 다시 추천해줘'}, {'role': 'assistant', 'content': 'chat_response'}, {'role': 'user', 'content': ''}, {'role': 'assistant', 'content': 'chat_response'}]\n"
     ]
    }
   ],
   "source": [
    "messages = []\n",
    "while True:\n",
    "    text = input(\"사용자(종료 : q) >>> \")\n",
    "    # 종료 조건\n",
    "    if text.lower() in ['q', 'ㅂ']:\n",
    "        break\n",
    "    messages.append(\n",
    "        {\n",
    "            \"role\": \"user\",\n",
    "            \"content\": text\n",
    "        }\n",
    "    )\n",
    "    # gpt 모델 챗 요청 -> 응답 받기\n",
    "    completion = client.chat.completions.create(\n",
    "        model=\"gpt-3.5-turbo\",\n",
    "        messages=messages,\n",
    "    )\n",
    "    # 응답 출력\n",
    "    # print(completion.choices[0].message.content)\n",
    "    chat_response = print(completion.choices[0].message.content)\n",
    "    messages.append(\n",
    "        {\n",
    "            \"role\" : \"assistant\",\n",
    "            \"content\" : \"chat_response\"\n",
    "        }\n",
    "    )\n",
    "    print(\"messages의 싱테: \", messages)"
   ]
  },
  {
   "cell_type": "code",
   "execution_count": null,
   "id": "11e6b40d",
   "metadata": {},
   "outputs": [],
   "source": [
    "# 사용한 프롬프트\n",
    "\n",
    "# 20대 여자가 볼만한 코믹영화 3개정도 추천해줘\n",
    "# 위에서 설명한 맨인블랙 줄거리를 5줄로 요약해줘\n",
    "# 위에서 설명한 3번 영화에 대해 줄거리를 설명해줘\n",
    "# 로맨스가 있는걸로 다시 추천해줘"
   ]
  },
  {
   "cell_type": "markdown",
   "id": "14ce7e9c",
   "metadata": {},
   "source": [
    "# AI GPT 모델화 대화 실행 테스트"
   ]
  },
  {
   "cell_type": "code",
   "execution_count": 19,
   "id": "c167ee7e",
   "metadata": {},
   "outputs": [],
   "source": [
    "movie_prompt = \"\"\"당신은 영화 추천을 위해 훈련된 고도로 숙련된 AI입니다.\n",
    "내가 입력한 단어 또는 문장을 기반으로 영화를 추천해야 합니다.\n",
    "내가 입력한 단어 또는 문장에는 나의 관심사와 성별, 연령대, 지역 등의 개인정보가 포함될 수 있습니다.\n",
    "내가 어떤 영화의 제목을 입력하면 유사한 장르의 영화를 추천하세요.\n",
    "감독 또는 배우의 이름을 입력하면 그 배우가 참여한 다른 영화를 추천하세요.\n",
    "개인정보를 입력하면 그 그룹에서 인기있는 영화를 추천하세요.\n",
    "영화 추천은 3편~5편을 해주고, 목록 형식으로 추천해주세요.\n",
    "항상 마지막에 `더 많은 정보를 입력하겠습니까?`을 출력해서 영화 추천을 계속 할 지 말지를 결정할 수 있도록 해야 합니다.\"\"\""
   ]
  },
  {
   "cell_type": "code",
   "execution_count": 24,
   "id": "1973f4a8",
   "metadata": {},
   "outputs": [],
   "source": [
    "# chat ai 모델에 메시지 요청 및 응답받기\n",
    "completion = client.chat.completions.create(\n",
    "    model=\"gpt-4\", \n",
    "    messages=[\n",
    "        {\n",
    "            \"role\": \"system\",\n",
    "            \"content\": \"너는 영화 평론가야\"\n",
    "        },\n",
    "        {\n",
    "            \"role\": \"user\",\n",
    "            \"content\": movie_prompt\n",
    "        }\n",
    "    ],\n",
    "    temperature=0.7,\n",
    ")"
   ]
  },
  {
   "cell_type": "code",
   "execution_count": 25,
   "id": "0e9d237f",
   "metadata": {},
   "outputs": [
    {
     "name": "stdout",
     "output_type": "stream",
     "text": [
      "알겠습니다! 이제부터 영화 추천을 시작하겠습니다. 먼저, 당신이 좋아하는 영화 장르, 배우, 감독 또는 개인적인 정보를 알려주세요.\n"
     ]
    }
   ],
   "source": [
    "print(completion.choices[0].message.content)"
   ]
  },
  {
   "cell_type": "markdown",
   "id": "c26ac7b8",
   "metadata": {},
   "source": [
    "## 개인화된 영화 추천 챗봇\n",
    "- 멀티턴 챗봇\n",
    "- None Stream 형태"
   ]
  },
  {
   "cell_type": "code",
   "execution_count": 26,
   "id": "00f8527b",
   "metadata": {},
   "outputs": [],
   "source": [
    "movie_prompt = \"\"\"당신은 영화 추천을 위해 훈련된 고도로 숙련된 AI입니다.\n",
    "내가 입력한 단어 또는 문장을 기반으로 영화를 추천해야 합니다.\n",
    "내가 입력한 단어 또는 문장에는 나의 관심사와 성별, 연령대, 지역 등의 개인정보가 포함될 수 있습니다.\n",
    "내가 어떤 영화의 제목을 입력하면 유사한 장르의 영화를 추천하세요.\n",
    "감독 또는 배우의 이름을 입력하면 그 배우가 참여한 다른 영화를 추천하세요.\n",
    "개인정보를 입력하면 그 그룹에서 인기있는 영화를 추천하세요.\n",
    "영화 추천은 3편~5편을 해주고, 목록 형식으로 추천해주세요.\n",
    "항상 마지막에 `더 많은 정보를 입력하겠습니까?`을 출력해서 영화 추천을 계속 할 지 말지를 결정할 수 있도록 해야 합니다.\n",
    "\"\"\""
   ]
  },
  {
   "cell_type": "code",
   "execution_count": 27,
   "id": "cf1f072f",
   "metadata": {},
   "outputs": [
    {
     "name": "stdout",
     "output_type": "stream",
     "text": [
      "20대 여성분께 적합한 코미디 영화를 추천드리겠습니다:\n",
      "\n",
      "1. **레이디 버드 (Lady Bird)** - 그레타 거윅 감독이 연출한 이 영화는 성장기를 겪는 주인공의 유쾌하고 섬세한 이야기를 담고 있습니다.\n",
      "2. **피치 퍼펙트 (Pitch Perfect)** - 음악과 유머가 결합된 이 영화는 강렬한 캐릭터와 재치 있는 대화가 돋보이는 작품입니다.\n",
      "3. **쿼티 로맨틱 (Isn't It Romantic)** - 이 영화에서는 로맨틱 코미디 장르를 풍자하는 독특한 접근 방식을 즐길 수 있으며, 리벨 윌슨이 주연으로 활약합니다.\n",
      "\n",
      "더 많은 정보를 입력하겠습니까?\n",
      "**쿼티 로맨틱 (Isn't It Romantic)**은 리벨 윌슨이 주연을 맡은 코미디 영화로, 2019년에 개봉했습니다. 이 영화의 주인공은 뉴욕의 젊은 건축가 나탈리입니다. 나탈리는 어린 시절부터 로맨틱 코미디 장르를 무시하며 자라났지만, 어느 날 갑자기 사고를 당한 후 깨어나 보니 자신의 삶이 마치 로맨틱 코미디 영화 속의 세계처럼 변해 있습니다.\n",
      "\n",
      "영화는 로맨틱 코미디의 전형적인 클리셰와 트로프를 재치 있게 풍자하면서, 나탈리가 진정한 사랑과 자신감을 찾아가는 과정을 그립니다. 이 과정에서 그녀는 사랑의 진정한 의미와 자기 자신을 받아들이는 법을 배우게 됩니다. 리벨 윌슨의 재치 있는 연기와 이 영화가 가지는 자기조롱적인 유머는 관객들에게 큰 웃음과 함께 따뜻한 메시지를 전달합니다.\n",
      "\n",
      "더 많은 정보를 입력하겠습니까?\n",
      "로맨틱 코미디 장르에서 로맨스가 돋보이는 영화를 몇 편 추천드리겠습니다:\n",
      "\n",
      "1. **라라랜드 (La La Land)** - 라이언 고슬링과 엠마 스톤 주연의 이 영화는 꿈을 향해 나아가는 젊은 예술가들의 러브스토리를 다룹니다. 감각적인 음악과 화려한 비주얼이 매력적인 작품입니다.\n",
      "2. **노트북 (The Notebook)** - 라이언 고슬링과 레이첼 맥아덤스가 주연을 맡은 이 영화는 시간을 초월한 사랑 이야기로, 많은 사람들에게 사랑받는 클래식 로맨틱 영화입니다.\n",
      "3. **어바웃 타임 (About Time)** - 도널 글리슨과 레이첼 맥아덤스 주연의 이 영화는 시간을 되돌릴 수 있는 능력을 가진 젊은 남자의 이야기로, 사랑과 가족에 대한 따뜻한 메시지를 전달합니다.\n",
      "\n",
      "더 많은 정보를 입력하겠습니까?\n"
     ]
    }
   ],
   "source": [
    "messages = [{\"role\": \"system\", \"content\": movie_prompt}]\n",
    "\n",
    "while True:\n",
    "    text = input(\"관심사 또는 개인정보를 입력하세요. (종료: 'q'): \")\n",
    "    if text.lower() in ['q', 'ㅂ']:\n",
    "        break\n",
    "\n",
    "    messages.append({\"role\": \"user\", \"content\": text})\n",
    "    response = client.chat.completions.create(\n",
    "        model=\"gpt-4-turbo\",\n",
    "        messages=messages,\n",
    "        stream=False  # 스트리밍 비활성화\n",
    "    )\n",
    "\n",
    "    full_reply = response.choices[0].message.content  # 전체 응답을 한 번에 가져옴\n",
    "    print(full_reply)\n",
    "\n",
    "    messages.append({\"role\": \"assistant\", \"content\": full_reply})"
   ]
  },
  {
   "cell_type": "code",
   "execution_count": null,
   "id": "6d6eddbe",
   "metadata": {},
   "outputs": [],
   "source": [
    "# 20대 여자가 볼만한 코믹영화 3개정도 추천해줘\n",
    "# 위에서 설명한 맨인블랙 줄거리를 5줄로 요약해줘\n",
    "# 위에서 설명한 3번 영화에 대해 줄거리를 설명해줘\n",
    "# 로맨스가 있는걸로 다시 추천해줘"
   ]
  },
  {
   "cell_type": "code",
   "execution_count": 28,
   "id": "bc328fc1",
   "metadata": {},
   "outputs": [
    {
     "name": "stdout",
     "output_type": "stream",
     "text": [
      "20대 여성에게 추천하는 코믹 영화 3편은 다음과 같습니다:\n",
      "\n",
      "1. **\"미안해, 사랑해, 고마워\" (2021)** - 일상의 소소한 사건을 통해 코미디가 섞인 로맨스가 펼쳐지는 영화입니다. 재치 있는 대화와 상황이 매력적인 작품입니다.\n",
      "\n",
      "2. **\"라라랜드\" (2016)** - 로맨틱한 이야기와 코미디 요소가 가미된 뮤지컬 영화로, 꿈을 꾸는 이들의 이야기를 가볍고 감각적으로 그려냈습니다.\n",
      "\n",
      "3. **\"오션스 8\" (2018)** - 모두 여성으로 구성된 캐스팅의 코미디 어드벤처 영화로, 유쾌함과 패션, 스타일을 갖춘 범죄 플롯을 경험할 수 있습니다.\n",
      "\n",
      "더 많은 정보를 입력하겠습니까?**\"오션스 8\" (2018)**은 인기 있는 \"오션스\" 시리즈의 스핀오프 영화로, 주로 여성으로 구성된 범죄 그룹이 중심입니다. 다니 오션 (산드라 블록)이 그룹의 리더로 등장하며, 그녀는 최근 감옥에서 출소한 직후입니다. 다니는 감옥에서 수년 동안 완벽한 계획을 세웠으며, 이제 그 계획을 실행에 옮기려 합니다.\n",
      "\n",
      "계획의 목표는 뉴욕시에서 열리는 연례 메트 갈라 행사에서 세계적으로 유명한 다이아몬드 목걸이를 훔치는 것입니다. 이 목걸이는 1억 5천만 달러의 가치가 있는 것으로, 이를 훔치기 위해 다니는 자신의 오랜 파트너인 루 (케이트 블란쳇)와 함께 전문가들로 구성된 팀을 모집합니다. 각 멤버는 독특한 기술을 가지고 있으며, 그들은 보석 전문가, 거리 사기꾼, 해커 등 다양한 역할을 맡아 계획을 수행합니다.\n",
      "\n",
      "영화는 이들이 어떻게 위험을 무릅쓰고 팀워크를 발휘하여 복잡한 보안 시스템을 극복하고 목표를 달성하는지를 유쾌하고 긴장감 있게 그립니다. 또한, 각 캐릭터들의 개성과 배경이 잘 드러나면서 관객들에게 많은 웃음과 재미를 제공합니다.\n",
      "\n",
      "더 많은 정보를 입력하겠습니까?로맨스가 어우러진 코미디 영화를 원하신다면 다음의 세 편을 추천드립니다:\n",
      "\n",
      "1. **\"노트북\" (2004)** - 두 사람의 길고 복잡한 사랑 이야기를 그려낸 로맨틱 드라마로, 시간을 초월한 사랑의 메시지와 함께 가슴 뭉클한 순간들로 가득 찬 영화입니다.\n",
      "\n",
      "2. **\"500일의 썸머\" (2009)** - 예상치 못한 방식으로 펼쳐지는 로맨스와 현실적인 관계의 동역학을 재치 있는 방식으로 다룬 영화로, 전통적인 로맨틱 코미디와는 다른 접근을 보여줍니다.\n",
      "\n",
      "3. **\"프라다를 입은 악마\" (2006)** - 로맨스보다는 커리어에 중점을 둔 영화이지만, 주인공의 사랑 생활도 중요한 역할을 차지함으로써, 로맨틱 코미디의 요소를 느끼게 해주는 작품입니다.\n",
      "\n",
      "더 많은 정보를 입력하겠습니까?"
     ]
    }
   ],
   "source": [
    "messages = [{\"role\": \"system\", \"content\": movie_prompt}] # 프롬프트 설정\n",
    "text = input(\"당신의 관심사 또는 개인정보(성별, 연령대 등)을 입력하세요.(종료는 `q` 입력): \")\n",
    "while True:\n",
    "    if text.lower() in ['q', 'ㅂ']: break # `q`, `Q`, `ㅂ`중 하나를 입력하면 종료\n",
    "    messages.append({\"role\":\"user\", \"content\":text}) # 관심정보를 메시지에 추가\n",
    "    response = client.chat.completions.create(\n",
    "        model=\"gpt-4-turbo\",\n",
    "        messages=messages,\n",
    "        stream=True # 스트리밍 응답\n",
    "    )\n",
    "    collected_messages = [] # 전체 응답을 저장할 리스트\n",
    "    for chunk in response:\n",
    "        chunk_message = chunk.choices[0].delta.content      # 청크 메시지 추출\n",
    "        collected_messages.append(chunk_message)\n",
    "        if(chunk_message==None): \n",
    "            text = input(\"추가정보 입력(종료는 `q`): \")\n",
    "        else:\n",
    "            print(f\"{chunk_message}\", end='')\n",
    "    collected_messages = [m for m in collected_messages if m is not None] # None아닌 메시지를 뽑아냄\n",
    "    full_reply_content = ''.join([m for m in collected_messages]) # 모든 청크 메시지를 연결\n",
    "\n",
    "    messages.append({\"role\":\"assistant\", \"content\": full_reply_content}) # 응답 메시지를 assistant에 저장"
   ]
  },
  {
   "cell_type": "code",
   "execution_count": null,
   "id": "bb651166",
   "metadata": {},
   "outputs": [],
   "source": []
  }
 ],
 "metadata": {
  "kernelspec": {
   "display_name": "llm_env",
   "language": "python",
   "name": "python3"
  },
  "language_info": {
   "codemirror_mode": {
    "name": "ipython",
    "version": 3
   },
   "file_extension": ".py",
   "mimetype": "text/x-python",
   "name": "python",
   "nbconvert_exporter": "python",
   "pygments_lexer": "ipython3",
   "version": "3.10.19"
  }
 },
 "nbformat": 4,
 "nbformat_minor": 5
}
